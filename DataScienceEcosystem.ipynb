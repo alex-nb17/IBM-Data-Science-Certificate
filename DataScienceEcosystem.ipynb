{
  "nbformat": 4,
  "nbformat_minor": 0,
  "metadata": {
    "colab": {
      "provenance": []
    },
    "kernelspec": {
      "name": "python3",
      "display_name": "Python 3"
    },
    "language_info": {
      "name": "python"
    }
  },
  "cells": [
    {
      "cell_type": "markdown",
      "source": [
        "# Data Science Tools and Ecosystem\n",
        "\n"
      ],
      "metadata": {
        "id": "Bd1tO_I2MWTq"
      }
    },
    {
      "cell_type": "markdown",
      "source": [
        "In this notebook, Data Science Tools and Ecosystem are summarized."
      ],
      "metadata": {
        "id": "1UEG29KbM1EK"
      }
    },
    {
      "cell_type": "markdown",
      "source": [
        " **Objectives:**\n",
        "\n",
        "\n",
        "*   List popular languages\n",
        "*   List common librarues\n",
        "*   List open source tools\n",
        "*   List arithmetic expressions\n",
        "\n"
      ],
      "metadata": {
        "id": "chBPR23niPuD"
      }
    },
    {
      "cell_type": "markdown",
      "source": [],
      "metadata": {
        "id": "gDYDYi2jmjBA"
      }
    },
    {
      "cell_type": "markdown",
      "source": [
        "Some of the popular languages that Data Scientists use are:\n",
        "\n",
        "\n",
        "1.   Python\n",
        "2.   R\n",
        "3.   SQL\n",
        "\n",
        "\n"
      ],
      "metadata": {
        "id": "NN1-_OYzM4bG"
      }
    },
    {
      "cell_type": "markdown",
      "source": [
        "Some of the commonly used libraries used by Data Scientists include:\n",
        "\n",
        "1.  NumPy\n",
        "2. Pandas\n",
        "3. Scikit-learn\n",
        "\n",
        "\n"
      ],
      "metadata": {
        "id": "tKWLMQYpNqKd"
      }
    },
    {
      "cell_type": "markdown",
      "source": [
        "| Data Science Tools |\n",
        "| -------- |\n",
        "| Jupyter Notebooks |\n",
        "| Zeppelin Notebooks |\n",
        "| R Studio |"
      ],
      "metadata": {
        "id": "6dTx9owUOJYF"
      }
    },
    {
      "cell_type": "markdown",
      "source": [
        "### Below are a few examples of evaluating arithmetic expressions in Python"
      ],
      "metadata": {
        "id": "DIC3E00TPCOH"
      }
    },
    {
      "cell_type": "code",
      "source": [
        "#This a simple arithmetic expression to mutiply then add integers\n",
        "(3*4)+5"
      ],
      "metadata": {
        "colab": {
          "base_uri": "https://localhost:8080/"
        },
        "id": "CMThRHSLMqEg",
        "outputId": "d8c33529-c329-4539-9499-ffa1d7545099"
      },
      "execution_count": 1,
      "outputs": [
        {
          "output_type": "execute_result",
          "data": {
            "text/plain": [
              "17"
            ]
          },
          "metadata": {},
          "execution_count": 1
        }
      ]
    },
    {
      "cell_type": "code",
      "source": [
        "#This will convert 200 minutes to hours by diving by 60\n",
        "200/60"
      ],
      "metadata": {
        "colab": {
          "base_uri": "https://localhost:8080/"
        },
        "id": "G1Em28qOh5Fm",
        "outputId": "50047e2e-2cfe-401c-bab1-6482ccc97dec"
      },
      "execution_count": 2,
      "outputs": [
        {
          "output_type": "execute_result",
          "data": {
            "text/plain": [
              "3.3333333333333335"
            ]
          },
          "metadata": {},
          "execution_count": 2
        }
      ]
    },
    {
      "cell_type": "markdown",
      "source": [
        "## Author\n",
        "Alexia Naredo\n"
      ],
      "metadata": {
        "id": "kx8xgEVxkjZu"
      }
    }
  ]
}